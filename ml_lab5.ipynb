{
  "nbformat": 4,
  "nbformat_minor": 0,
  "metadata": {
    "colab": {
      "provenance": [],
      "include_colab_link": true
    },
    "kernelspec": {
      "name": "python3",
      "display_name": "Python 3"
    },
    "language_info": {
      "name": "python"
    }
  },
  "cells": [
    {
      "cell_type": "markdown",
      "metadata": {
        "id": "view-in-github",
        "colab_type": "text"
      },
      "source": [
        "<a href=\"https://colab.research.google.com/github/Vardhan0000/ML_LABS/blob/main/ml_lab5.ipynb\" target=\"_parent\"><img src=\"https://colab.research.google.com/assets/colab-badge.svg\" alt=\"Open In Colab\"/></a>"
      ]
    },
    {
      "cell_type": "markdown",
      "source": [
        "## **5. Develop a program for Bias, Variance, Remove duplicates , Cross Validation**"
      ],
      "metadata": {
        "id": "9SWilX5QRKOO"
      }
    },
    {
      "cell_type": "markdown",
      "source": [
        "**Bias:** It is simply defined as the inability of the model because of that there is some difference or error occurring between the model’s predicted value and the actual value. These differences between actual or expected values and the predicted values are known as error or bias error or error due to bias. Bias is a systematic error that occurs due to wrong assumptions in the machine learning process.\n",
        "\n"
      ],
      "metadata": {
        "id": "kQ94SHqYIITN"
      }
    },
    {
      "cell_type": "markdown",
      "source": [
        "Let\n",
        "Y\n",
        "Y be the true value of a parameter, and let\n",
        "Y\n",
        "^\n",
        "Y\n",
        "^\n",
        "  be an estimator of\n",
        "Y\n",
        "Y based on a sample of data. Then, the bias of the estimator\n",
        "Y\n",
        "^\n",
        "Y\n",
        "^\n",
        "  is given by:\n",
        "\n",
        "Bias\n",
        "(\n",
        "Y\n",
        "^\n",
        ")\n",
        "=\n",
        "E\n",
        "(\n",
        "Y\n",
        "^\n",
        ")\n",
        "–\n",
        "Y\n",
        "Bias(\n",
        "Y\n",
        "^\n",
        " )=E(\n",
        "Y\n",
        "^\n",
        " )–Y\n",
        "\n",
        "where\n",
        "E\n",
        "(\n",
        "Y\n",
        "^\n",
        ")\n",
        "  \n",
        "E(\n",
        "Y\n",
        "^\n",
        " )   is the expected value of the estimator\n",
        "Y\n",
        "^\n",
        "Y\n",
        "^\n",
        " . It is the measurement of the model that how well it fits the data.\n",
        "\n",
        "**Low Bias:** Low bias value means fewer assumptions are taken to build the target function. In this case, the model will closely match the training dataset.\n",
        "\n",
        "**High Bias:** High bias value means more assumptions are taken to build the target function. In this case, the model will not match the training dataset closely."
      ],
      "metadata": {
        "id": "FsON19FEJzLs"
      }
    },
    {
      "cell_type": "markdown",
      "source": [
        "**Variance:**  It is the measure of spread in data from its mean position. In machine learning variance is the amount by which the performance of a predictive model changes when it is trained on different subsets of the training data. More specifically, variance is the variability of the model that how much it is sensitive to another subset of the training dataset. i.e. how much it can adjust on the new subset of the training dataset."
      ],
      "metadata": {
        "id": "cuZNsw_yIYXt"
      }
    },
    {
      "cell_type": "markdown",
      "source": [
        "Let Y be the actual values of the target variable, and  Y\n",
        "^\n",
        "     be the predicted values of the target variable. Then the variance of a model can be measured as the expected value of the square of the difference between predicted values and the expected value of the predicted values.\n",
        "\n",
        "Variance\n",
        "=\n",
        "E\n",
        "[\n",
        "(\n",
        "Y\n",
        "^\n",
        "–\n",
        "E\n",
        "[\n",
        "Y\n",
        "^\n",
        "]\n",
        ")\n",
        "2\n",
        "]\n",
        "Variance=E[(\n",
        "Y\n",
        "^\n",
        " –E[\n",
        "Y\n",
        "^\n",
        " ])\n",
        "2\n",
        " ]\n",
        "\n",
        "where\n",
        "E\n",
        "[\n",
        "Y\n",
        "ˉ\n",
        "]\n",
        "E[\n",
        "Y\n",
        "ˉ\n",
        " ] is the expected value of the predicted values. Here expected value is averaged over all the training data.\n",
        "\n",
        "Variance errors are either low or high-variance errors."
      ],
      "metadata": {
        "id": "Ym3Q3es9KH2V"
      }
    },
    {
      "cell_type": "markdown",
      "source": [
        "![image.png](data:image/png;base64,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)"
      ],
      "metadata": {
        "id": "9wrMsD8NIYNR"
      }
    },
    {
      "cell_type": "markdown",
      "source": [
        "**Removing duplicates :** It is crucial for ensuring that your machine learning model learns from clean and accurate data, leading to better performance and more reliable outcomes."
      ],
      "metadata": {
        "id": "UEwJm-LvIYUe"
      }
    },
    {
      "cell_type": "markdown",
      "source": [
        "**Cross Validation :** Cross-validation is a technique for validating the model efficiency by training it on the subset of input data and testing on previously unseen subset of the input data. We can also say that it is a technique to check how a statistical model generalizes to an independent dataset.\n",
        "\n",
        "It involves dividing the available data into multiple folds or subsets, using one of these folds as a validation set, and training the model on the remaining folds. This process is repeated multiple times, each time using a different fold as the validation set."
      ],
      "metadata": {
        "id": "TmD8w-CHIYQs"
      }
    },
    {
      "cell_type": "code",
      "source": [
        "import numpy as np\n",
        "import pandas as pd\n",
        "import matplotlib.pyplot as plt\n",
        "from sklearn.model_selection import train_test_split, cross_val_score\n",
        "from sklearn.linear_model import LinearRegression\n",
        "from sklearn.metrics import mean_squared_error\n",
        "\n",
        "# Step 1: Create a simple synthetic dataset\n",
        "np.random.seed(0)  # For reproducibility\n",
        "X = np.random.rand(100, 1) * 10  # 100 samples, single feature\n",
        "y = 2 * X.squeeze() + np.random.randn(100) * 2  # Linear relationship with noise\n",
        "\n",
        "# Convert to DataFrame\n",
        "data = pd.DataFrame(np.column_stack((X, y)), columns=['Feature', 'Target'])\n",
        "\n",
        "# Step 2: Remove duplicates\n",
        "data = data.drop_duplicates()\n",
        "\n",
        "# Step 3: Split the dataset\n",
        "X_train, X_test, y_train, y_test = train_test_split(data[['Feature']], data['Target'], test_size=0.2, random_state=42)\n",
        "\n",
        "# Step 4: Fit a Linear Regression model\n",
        "model = LinearRegression()\n",
        "model.fit(X_train, y_train)\n",
        "\n",
        "# Predictions\n",
        "y_train_pred = model.predict(X_train)\n",
        "y_test_pred = model.predict(X_test)\n",
        "\n",
        "# Calculate bias and variance\n",
        "def calculate_bias_variance(y_true, y_pred):\n",
        "    bias = np.mean((y_true - np.mean(y_pred)) ** 2)\n",
        "    variance = np.mean((y_pred - np.mean(y_pred)) ** 2)\n",
        "    return bias, variance\n",
        "\n",
        "bias_train, variance_train = calculate_bias_variance(y_train, y_train_pred)\n",
        "bias_test, variance_test = calculate_bias_variance(y_test, y_test_pred)\n",
        "\n",
        "# Step 5: Cross-validation\n",
        "cross_val_scores = cross_val_score(model, data[['Feature']], data['Target'], cv=5, scoring='neg_mean_squared_error')\n",
        "mean_cv_score = -np.mean(cross_val_scores)\n",
        "\n",
        "# Plotting\n",
        "plt.figure(figsize=(16, 6))\n",
        "\n",
        "# Scatter plot of the dataset\n",
        "plt.subplot(1, 3, 1)\n",
        "plt.scatter(data['Feature'], data['Target'], color='royalblue', alpha=0.7, edgecolor='k', s=80, label='Data points')\n",
        "plt.scatter(X_test, y_test_pred, color='coral', marker='o', s=100, label='Test Predictions')\n",
        "plt.plot(X_test, y_test_pred, color='red', linewidth=2, linestyle='--', label='Predicted Line')\n",
        "plt.title('Linear Regression Fit', fontsize=16)\n",
        "plt.xlabel('Feature', fontsize=14)\n",
        "plt.ylabel('Target', fontsize=14)\n",
        "plt.grid(True)\n",
        "plt.legend()\n",
        "\n",
        "# Bar plot for bias and variance\n",
        "plt.subplot(1, 3, 2)\n",
        "labels = ['Train Bias', 'Train Variance', 'Test Bias', 'Test Variance']\n",
        "values = [bias_train, variance_train, bias_test, variance_test]\n",
        "colors = ['salmon', 'lightgreen', 'salmon', 'lightgreen']\n",
        "\n",
        "bars = plt.bar(labels, values, color=colors, edgecolor='black')\n",
        "plt.title('Bias and Variance', fontsize=16)\n",
        "plt.ylabel('Value', fontsize=14)\n",
        "plt.ylim(0, max(values) + 1)  # Adjust y-axis limits\n",
        "\n",
        "# Add data labels on bars\n",
        "for bar in bars:\n",
        "    yval = bar.get_height()\n",
        "    plt.text(bar.get_x() + bar.get_width()/2, yval + 0.1, round(yval, 2), ha='center', va='bottom', fontsize=12)\n",
        "\n",
        "plt.grid(axis='y')\n",
        "\n",
        "# Cross-validation scores plot\n",
        "plt.subplot(1, 3, 3)\n",
        "plt.bar(range(1, len(cross_val_scores) + 1), -cross_val_scores, color='teal', edgecolor='black')\n",
        "plt.title('Cross-Validation Scores', fontsize=16)\n",
        "plt.xlabel('Fold', fontsize=14)\n",
        "plt.ylabel('Mean Squared Error', fontsize=14)\n",
        "plt.xticks(range(1, len(cross_val_scores) + 1))  # Set x-ticks to match the number of folds\n",
        "plt.grid(axis='y')\n",
        "\n",
        "plt.tight_layout()\n",
        "plt.show()\n",
        "\n",
        "# Print results\n",
        "print(f'Train Bias: {bias_train:.3f}, Train Variance: {variance_train:.3f}')\n",
        "print(f'Test Bias: {bias_test:.3f}, Test Variance: {variance_test:.3f}')\n",
        "print(f'Mean Cross-Validation MSE: {mean_cv_score:.3f}')\n"
      ],
      "metadata": {
        "id": "RkLlHqMjRTl3"
      },
      "execution_count": null,
      "outputs": []
    },
    {
      "cell_type": "code",
      "source": [],
      "metadata": {
        "id": "_Rufw-iPRTi8"
      },
      "execution_count": null,
      "outputs": []
    },
    {
      "cell_type": "code",
      "source": [],
      "metadata": {
        "id": "xhooJUvsRTf3"
      },
      "execution_count": null,
      "outputs": []
    },
    {
      "cell_type": "code",
      "source": [],
      "metadata": {
        "id": "bhfXVGKNRTc0"
      },
      "execution_count": null,
      "outputs": []
    },
    {
      "cell_type": "code",
      "source": [],
      "metadata": {
        "id": "MxER8ScdRTaF"
      },
      "execution_count": null,
      "outputs": []
    },
    {
      "cell_type": "code",
      "source": [],
      "metadata": {
        "id": "dDMyiUvrRTXC"
      },
      "execution_count": null,
      "outputs": []
    }
  ]
}